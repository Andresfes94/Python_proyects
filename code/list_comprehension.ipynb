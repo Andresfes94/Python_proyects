{
 "cells": [
  {
   "cell_type": "code",
   "execution_count": 5,
   "metadata": {},
   "outputs": [
    {
     "data": {
      "text/plain": [
       "[10, 11, 12, 13, 14, 15, 16, 17, 18, 19]"
      ]
     },
     "execution_count": 5,
     "metadata": {},
     "output_type": "execute_result"
    }
   ],
   "source": [
    "sample_plus_10=[]\n",
    "for i in sample:\n",
    "    sample_plus_10.append(i+10)\n",
    "    \n",
    "sample_plus_10"
   ]
  },
  {
   "cell_type": "code",
   "execution_count": 4,
   "metadata": {},
   "outputs": [],
   "source": [
    "sample=list(range(10))"
   ]
  },
  {
   "cell_type": "code",
   "execution_count": 7,
   "metadata": {},
   "outputs": [],
   "source": [
    "sample_plus_10_2=[i+10 for i in sample]\n"
   ]
  },
  {
   "cell_type": "code",
   "execution_count": 8,
   "metadata": {},
   "outputs": [
    {
     "data": {
      "text/plain": [
       "[10, 11, 12, 13, 14, 15, 16, 17, 18, 19]"
      ]
     },
     "execution_count": 8,
     "metadata": {},
     "output_type": "execute_result"
    }
   ],
   "source": [
    "sample_plus_10_2\n"
   ]
  },
  {
   "cell_type": "markdown",
   "metadata": {},
   "source": [
    "-use brackets to tell python you want to apply list comprehension\n",
    "-a list comprehension returns a list\n",
    "\n",
    "Components:\n",
    "1.  function or transfofrmation\n",
    "2. loop"
   ]
  },
  {
   "cell_type": "code",
   "execution_count": 9,
   "metadata": {},
   "outputs": [
    {
     "data": {
      "text/plain": [
       "list"
      ]
     },
     "execution_count": 9,
     "metadata": {},
     "output_type": "execute_result"
    }
   ],
   "source": [
    "type(sample_plus_10)"
   ]
  },
  {
   "cell_type": "code",
   "execution_count": 10,
   "metadata": {},
   "outputs": [
    {
     "data": {
      "text/plain": [
       "list"
      ]
     },
     "execution_count": 10,
     "metadata": {},
     "output_type": "execute_result"
    }
   ],
   "source": [
    "type(sample_plus_10_2)"
   ]
  },
  {
   "cell_type": "code",
   "execution_count": 11,
   "metadata": {},
   "outputs": [
    {
     "data": {
      "text/plain": [
       "[0, 1, 4, 9, 16, 25, 36, 49, 64, 81]"
      ]
     },
     "execution_count": 11,
     "metadata": {},
     "output_type": "execute_result"
    }
   ],
   "source": [
    "[i**2 for i in sample]"
   ]
  },
  {
   "cell_type": "markdown",
   "metadata": {},
   "source": [
    "combining with control flow"
   ]
  },
  {
   "cell_type": "code",
   "execution_count": 12,
   "metadata": {},
   "outputs": [],
   "source": [
    "import random\n",
    "another_sample=random.sample(range(100),40)"
   ]
  },
  {
   "cell_type": "code",
   "execution_count": 13,
   "metadata": {},
   "outputs": [
    {
     "data": {
      "text/plain": [
       "[68, 56, 15, 63, 99, 21, 18, 91, 78, 75]"
      ]
     },
     "execution_count": 13,
     "metadata": {},
     "output_type": "execute_result"
    }
   ],
   "source": [
    "another_sample[:10]"
   ]
  },
  {
   "cell_type": "code",
   "execution_count": 15,
   "metadata": {},
   "outputs": [
    {
     "data": {
      "text/plain": [
       "[65, 53, 15, 75, 1, 71, 69, 7, 91, 59, 95, 63, 25, 61, 23, 73, 33, 49, 47, 51]"
      ]
     },
     "execution_count": 15,
     "metadata": {},
     "output_type": "execute_result"
    }
   ],
   "source": [
    "[i-3 for i in another_sample  if (i%2)==0]"
   ]
  },
  {
   "cell_type": "code",
   "execution_count": 18,
   "metadata": {},
   "outputs": [],
   "source": [
    "even_minus_three=[]\n",
    "for i in another_sample:\n",
    "    even_minus_three.append(i-3 if (i%2)==0 else i)"
   ]
  },
  {
   "cell_type": "code",
   "execution_count": 19,
   "metadata": {},
   "outputs": [
    {
     "data": {
      "text/plain": [
       "[65,\n",
       " 53,\n",
       " 15,\n",
       " 63,\n",
       " 99,\n",
       " 21,\n",
       " 15,\n",
       " 91,\n",
       " 75,\n",
       " 75,\n",
       " 47,\n",
       " 1,\n",
       " 83,\n",
       " 3,\n",
       " 71,\n",
       " 71,\n",
       " 69,\n",
       " 31,\n",
       " 7,\n",
       " 87,\n",
       " 91,\n",
       " 59,\n",
       " 95,\n",
       " 63,\n",
       " 25,\n",
       " 93,\n",
       " 17,\n",
       " 25,\n",
       " 89,\n",
       " 61,\n",
       " 35,\n",
       " 1,\n",
       " 23,\n",
       " 69,\n",
       " 73,\n",
       " 61,\n",
       " 33,\n",
       " 49,\n",
       " 47,\n",
       " 51]"
      ]
     },
     "execution_count": 19,
     "metadata": {},
     "output_type": "execute_result"
    }
   ],
   "source": [
    "even_minus_three"
   ]
  },
  {
   "cell_type": "code",
   "execution_count": 20,
   "metadata": {},
   "outputs": [
    {
     "data": {
      "text/plain": [
       "[65,\n",
       " 53,\n",
       " 15,\n",
       " 63,\n",
       " 99,\n",
       " 21,\n",
       " 15,\n",
       " 91,\n",
       " 75,\n",
       " 75,\n",
       " 47,\n",
       " 1,\n",
       " 83,\n",
       " 3,\n",
       " 71,\n",
       " 71,\n",
       " 69,\n",
       " 31,\n",
       " 7,\n",
       " 87,\n",
       " 91,\n",
       " 59,\n",
       " 95,\n",
       " 63,\n",
       " 25,\n",
       " 93,\n",
       " 17,\n",
       " 25,\n",
       " 89,\n",
       " 61,\n",
       " 35,\n",
       " 1,\n",
       " 23,\n",
       " 69,\n",
       " 73,\n",
       " 61,\n",
       " 33,\n",
       " 49,\n",
       " 47,\n",
       " 51]"
      ]
     },
     "execution_count": 20,
     "metadata": {},
     "output_type": "execute_result"
    }
   ],
   "source": [
    "[i-3 if (i%2)==0 else i for i in another_sample]"
   ]
  },
  {
   "cell_type": "code",
   "execution_count": null,
   "metadata": {},
   "outputs": [],
   "source": []
  }
 ],
 "metadata": {
  "kernelspec": {
   "display_name": "Python 3",
   "language": "python",
   "name": "python3"
  },
  "language_info": {
   "codemirror_mode": {
    "name": "ipython",
    "version": 3
   },
   "file_extension": ".py",
   "mimetype": "text/x-python",
   "name": "python",
   "nbconvert_exporter": "python",
   "pygments_lexer": "ipython3",
   "version": "3.7.3"
  }
 },
 "nbformat": 4,
 "nbformat_minor": 2
}
