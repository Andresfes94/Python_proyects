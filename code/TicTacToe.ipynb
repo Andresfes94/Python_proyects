{
 "cells": [
  {
   "cell_type": "code",
   "execution_count": 5,
   "metadata": {},
   "outputs": [],
   "source": [
    "from IPython.display import clear_output\n",
    "clear_output()\n",
    "import random\n"
   ]
  },
  {
   "cell_type": "code",
   "execution_count": 11,
   "metadata": {},
   "outputs": [
    {
     "name": "stdout",
     "output_type": "stream",
     "text": [
      "Choose a position: 1\n"
     ]
    },
    {
     "data": {
      "text/plain": [
       "1"
      ]
     },
     "execution_count": 11,
     "metadata": {},
     "output_type": "execute_result"
    }
   ],
   "source": [
    "def player_choice():\n",
    "    #This function ask for the desired position of the player until \n",
    "    #the input is valid \n",
    "    \n",
    "    choice = 'wrong'\n",
    "    choices=['1','2','3','4','5','6','7','8','9']\n",
    "    \n",
    "    while choice not in choices :\n",
    "        \n",
    "        choice = input(\"Choose a position: \")\n",
    "        \n",
    "        if choice not in choices:\n",
    "            clear_output()\n",
    "            \n",
    "            print(\"Sorry, but you did not enter a valid position. Please try again.\")\n",
    "    return int(choice)\n",
    "player_choice()"
   ]
  },
  {
   "cell_type": "code",
   "execution_count": 13,
   "metadata": {},
   "outputs": [],
   "source": [
    "board=[' ',' ',' ',' ',' ',' ',' ',' ',' ',' ',' ',]"
   ]
  },
  {
   "cell_type": "code",
   "execution_count": null,
   "metadata": {},
   "outputs": [],
   "source": []
  },
  {
   "cell_type": "code",
   "execution_count": null,
   "metadata": {
    "collapsed": true
   },
   "outputs": [],
   "source": []
  },
  {
   "cell_type": "code",
   "execution_count": null,
   "metadata": {},
   "outputs": [],
   "source": []
  },
  {
   "cell_type": "code",
   "execution_count": 12,
   "metadata": {},
   "outputs": [],
   "source": [
    "def player_symbol():\n",
    "    marker = ''\n",
    "    #This function asks for the desired symbol to play with\n",
    "    while not (marker == 'X' or marker == 'O'):\n",
    "\n",
    "        marker = input('Player 1: Do you want to be X or O? ').upper()\n",
    "        clear_output()\n",
    "        print(\"Sorry, but you did not enter a valid symbol to play. Please try again.\")\n",
    "\n",
    "    if marker == 'X':\n",
    "        return ('X', 'O')\n",
    "    \n",
    "    \n",
    "    elif marker == 'O':\n",
    "        return ('O', 'X')\n",
    "\n",
    "    \n",
    "    "
   ]
  },
  {
   "cell_type": "code",
   "execution_count": 8,
   "metadata": {},
   "outputs": [
    {
     "name": "stdout",
     "output_type": "stream",
     "text": [
      "Sorry, but you did not enter a valid symbol to play. Please try again.\n"
     ]
    },
    {
     "data": {
      "text/plain": [
       "('X', 'O')"
      ]
     },
     "execution_count": 8,
     "metadata": {},
     "output_type": "execute_result"
    }
   ],
   "source": [
    "player_symbol()"
   ]
  },
  {
   "cell_type": "markdown",
   "metadata": {},
   "source": []
  },
  {
   "cell_type": "code",
   "execution_count": null,
   "metadata": {},
   "outputs": [],
   "source": [
    "player_choice"
   ]
  },
  {
   "cell_type": "code",
   "execution_count": 20,
   "metadata": {},
   "outputs": [],
   "source": [
    "def place_symbol(board, player_symbol, player_choice):\n",
    "    \n",
    "    #Write a function that takes in the board list object, a marker \n",
    "    #('X' or 'O'), and a desired position (number 1-9) and assigns it to the board.**\n",
    "    \n",
    "    \n",
    "    board[player_choice]=player_symbol\n",
    "    \n",
    "    return board"
   ]
  },
  {
   "cell_type": "code",
   "execution_count": 27,
   "metadata": {},
   "outputs": [
    {
     "name": "stdout",
     "output_type": "stream",
     "text": [
      " | |o\n",
      "o| | \n",
      "o| |X\n"
     ]
    }
   ],
   "source": [
    "place_symbol(board,'o',4)\n",
    "display_board(board)"
   ]
  },
  {
   "cell_type": "code",
   "execution_count": 33,
   "metadata": {},
   "outputs": [],
   "source": [
    "def win_check(board, player_symbol):\n",
    "    #function that takes in a board and a mark (X or O) and then checks to see if that mark has won. *\n",
    "    b=board\n",
    "    p=player_symbol\n",
    "    if  p in b[1] and b[2] and b[3]:\n",
    "        print (p, 'won!!!')\n",
    "    if  p in b[1] and b[2] and b[3]:\n",
    "        print (p, 'won!!!')\n",
    "\n",
    "    if  p in b[1] and b[4] and b[7]:\n",
    "        print (p, 'won!!!')\n",
    "\n",
    "    if  p in b[7] and b[8] and b[9]:\n",
    "        print (p, 'won!!!')\n",
    "    if  p in b[9] and b[6] and b[3]:\n",
    "        print (p, 'won!!!')\n",
    "    if  p in b[7] and b[5] and b[3]:\n",
    "        print (p, 'won!!!')\n",
    "    if  p in b[1] and b[5] and b[9]:\n",
    "        print (p, 'won!!!')\n",
    "        \n",
    "    if  p in b[4] and b[5] and b[6]:\n",
    "        print (p, 'won!!!')\n",
    "        \n",
    "    if  p in b[2] and b[5] and b[8]:\n",
    "        print (p, 'won!!!')\n",
    "\n",
    "        "
   ]
  },
  {
   "cell_type": "code",
   "execution_count": 39,
   "metadata": {},
   "outputs": [
    {
     "name": "stdout",
     "output_type": "stream",
     "text": [
      "X won!!!\n"
     ]
    }
   ],
   "source": [
    "win_check(board,'X')"
   ]
  },
  {
   "cell_type": "code",
   "execution_count": 45,
   "metadata": {},
   "outputs": [
    {
     "data": {
      "text/plain": [
       "'Player 1'"
      ]
     },
     "execution_count": 45,
     "metadata": {},
     "output_type": "execute_result"
    }
   ],
   "source": [
    "def who_starts():\n",
    "    start= random.randint(0,1)\n",
    "    if start== 0:\n",
    "        return 'Player 1'\n",
    "    else:\n",
    "        return 'Player 2'\n",
    "who_starts()"
   ]
  },
  {
   "cell_type": "markdown",
   "metadata": {},
   "source": [
    "def board():\n",
    "\n",
    "   board = [[' |',' |',' |'],\n",
    "            [' |',' |',' |'],\n",
    "            [' |',' |',' |']]\n",
    "\n",
    "   for i in board:\n",
    "       for j in i:\n",
    "         print(j, end = \"  \")\n",
    "       print()    \n",
    "\n",
    "board()"
   ]
  },
  {
   "cell_type": "code",
   "execution_count": 25,
   "metadata": {},
   "outputs": [],
   "source": [
    "def display_board(board):\n",
    "    clear_output()\n",
    "    print(board[1] + '|' + board[2] + '|' + board[3])\n",
    "    print(board[4] + '|' + board[5] + '|' + board[6])\n",
    "    print(board[7] + '|' + board[8] + '|' + board[9])\n",
    "\n"
   ]
  },
  {
   "cell_type": "code",
   "execution_count": 47,
   "metadata": {},
   "outputs": [
    {
     "name": "stdout",
     "output_type": "stream",
     "text": [
      "X|O|X\n",
      "O|X|O\n",
      "X|O|X\n"
     ]
    }
   ],
   "source": [
    "test_board = ['#','X','O', 'X','O','X','O','X','O','X']\n",
    "display_board(test_board)"
   ]
  },
  {
   "cell_type": "code",
   "execution_count": null,
   "metadata": {},
   "outputs": [],
   "source": [
    "def pc_choice():\n",
    "    choices=['1','2','3','4','5','6','7','8','9']\n",
    "    \n",
    "    left_choices= choices.remove('2')\n",
    "    #left_choices= choices.remove(player_choice)\n",
    "    pc=random.choice(left_choices)\n",
    "    return pc\n"
   ]
  },
  {
   "cell_type": "code",
   "execution_count": null,
   "metadata": {},
   "outputs": [],
   "source": [
    "pc_choice()"
   ]
  },
  {
   "cell_type": "markdown",
   "metadata": {},
   "source": [
    "\n",
    "def display_board(board):\n",
    "    \n",
    "    pass"
   ]
  }
 ],
 "metadata": {
  "kernelspec": {
   "display_name": "Python 3",
   "language": "python",
   "name": "python3"
  },
  "language_info": {
   "codemirror_mode": {
    "name": "ipython",
    "version": 3
   },
   "file_extension": ".py",
   "mimetype": "text/x-python",
   "name": "python",
   "nbconvert_exporter": "python",
   "pygments_lexer": "ipython3",
   "version": "3.8.3"
  }
 },
 "nbformat": 4,
 "nbformat_minor": 4
}
