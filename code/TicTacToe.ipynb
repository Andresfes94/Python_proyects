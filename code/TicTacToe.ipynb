{
 "cells": [
  {
   "cell_type": "code",
   "execution_count": 1,
   "metadata": {},
   "outputs": [],
   "source": [
    "from IPython.display import clear_output\n",
    "clear_output()\n",
    "import random\n"
   ]
  },
  {
   "cell_type": "code",
   "execution_count": 2,
   "metadata": {},
   "outputs": [],
   "source": [
    "board=[' ',' ',' ',' ',' ',' ',' ',' ',' ',' ',' ',]\n",
    "def display_board(board):\n",
    "    clear_output()\n",
    "    print(board[1] + '|' + board[2] + '|' + board[3])\n",
    "    print('------')\n",
    "\n",
    "    print(board[4] + '|' + board[5] + '|' + board[6])\n",
    "    print('------')\n",
    "\n",
    "    print(board[7] + '|' + board[8] + '|' + board[9])\n",
    "display_board(board)"
   ]
  },
  {
   "cell_type": "code",
   "execution_count": 3,
   "metadata": {},
   "outputs": [
    {
     "data": {
      "text/plain": [
       "('O', 'X')"
      ]
     },
     "execution_count": 3,
     "metadata": {},
     "output_type": "execute_result"
    }
   ],
   "source": [
    "def player_symbol():\n",
    "    marker = 'WRONG'\n",
    "    valid_marker=['X','O']\n",
    "    #This function asks for the desired symbol to play with\n",
    "    while marker not in valid_marker:\n",
    "        marker = input('Player 1: Do you want to be X or O?: ')#.upper()\n",
    "        clear_output()\n",
    "        if marker not in valid_marker:\n",
    "            print(\"Sorry, but you did not enter a valid symbol to play. Please try again.\")\n",
    "\n",
    "        \n",
    "    \n",
    "    player1=marker\n",
    "\n",
    "\n",
    "    if player1 == 'X':\n",
    "        player2='O'\n",
    "    #\n",
    "    \n",
    "    else:\n",
    "        player2='X'\n",
    "    return (player1,player2)\n",
    "player_symbol()"
   ]
  },
  {
   "cell_type": "code",
   "execution_count": null,
   "metadata": {},
   "outputs": [],
   "source": []
  },
  {
   "cell_type": "code",
   "execution_count": 4,
   "metadata": {},
   "outputs": [],
   "source": [
    "def place_symbol(board, player_symbol, player_choice):\n",
    "    \n",
    "    #Write a function that takes in the board list object, a marker \n",
    "    #('X' or 'O'), and a desired position (number 1-9) and assigns it to the board.**\n",
    "    \n",
    "    \n",
    "    board[player_choice]=player_symbol\n",
    "    \n",
    "    return board"
   ]
  },
  {
   "cell_type": "code",
   "execution_count": 5,
   "metadata": {},
   "outputs": [
    {
     "name": "stdout",
     "output_type": "stream",
     "text": [
      " | | \n",
      "------\n",
      "o| | \n",
      "------\n",
      " | | \n"
     ]
    }
   ],
   "source": [
    "place_symbol(board,'o',4)\n",
    "display_board(board)"
   ]
  },
  {
   "cell_type": "code",
   "execution_count": 6,
   "metadata": {},
   "outputs": [],
   "source": [
    "def win_check(board, player_symbol):\n",
    "    #function that takes in a board andand a mark (X or O) and then checks to see if that mark has won. *\n",
    "    b=board\n",
    "    p=player_symbol\n",
    "    #it has to return something \n",
    "    if ( (p ==b[1]== b[2]==b[3]) or (p ==b[1]== b[4]==b[7]) \n",
    "    or (p ==b[7]== b[8]==b[9]) or (p ==b[9]==b[6]==b[3]) or \n",
    "    (p ==b[7]== b[5]==b[3]) or (p ==b[1]== b[5]==b[9]) or \n",
    "    (p ==b[6]== b[4]==b[5]) or (p ==b[5]== b[2]==b[6])  ):\n",
    "        return True\n",
    "    else: \n",
    "        return False \n",
    "    \n",
    "   # if  p in b[1] and b[2] and b[3]:\n",
    "   #     return True\n",
    "   # if  p in b[1] and b[4] and b[7]:\n",
    "        ##print (p, 'won!!!')\n",
    "\n",
    "   # if  p in b[7] and b[8] and b[9]:\n",
    "       #print (p, 'won!!!')\n",
    "   # if  p in b[9] and b[6] and b[3]:\n",
    "       # print (p, 'won!!!')\n",
    "   # if  p in b[7] and b[5] and b[3]:\n",
    "      #  print (p, 'won!!!')\n",
    "    ## if  p in b[1] and b[5] and b[9]:\n",
    "       # print (p, 'won!!!')\n",
    "        \n",
    "   # if  p in b[4] and b[5] and b[6]:\n",
    "       # print (p, 'won!!!')\n",
    "        \n",
    "   # if  p in b[2] and b[5] and b[8]:\n",
    "       # print (p, 'won!!!')\n",
    "\n",
    "        "
   ]
  },
  {
   "cell_type": "code",
   "execution_count": 7,
   "metadata": {},
   "outputs": [],
   "source": [
    "test_board = ['#','X','O','X','O','X','O','X','O','X']\n"
   ]
  },
  {
   "cell_type": "code",
   "execution_count": 8,
   "metadata": {},
   "outputs": [
    {
     "data": {
      "text/plain": [
       "True"
      ]
     },
     "execution_count": 8,
     "metadata": {},
     "output_type": "execute_result"
    }
   ],
   "source": [
    "win_check(test_board,'X')"
   ]
  },
  {
   "cell_type": "code",
   "execution_count": 9,
   "metadata": {},
   "outputs": [
    {
     "name": "stdout",
     "output_type": "stream",
     "text": [
      "X|O|X\n",
      "------\n",
      "O|X|O\n",
      "------\n",
      "X|O|X\n"
     ]
    }
   ],
   "source": [
    "test_board = ['#','X','O', 'X','O','X','O','X','O','X']\n",
    "display_board(test_board)"
   ]
  },
  {
   "cell_type": "code",
   "execution_count": 10,
   "metadata": {},
   "outputs": [],
   "source": [
    "def pc_choice():\n",
    "    choices=['1','2','3','4','5','6','7','8','9']\n",
    "    \n",
    "    left_choices= choices.remove('2')\n",
    "    #left_choices= choices.remove(player_choice)\n",
    "    pc=random.choice(left_choices)\n",
    "    return pc\n"
   ]
  },
  {
   "cell_type": "code",
   "execution_count": 11,
   "metadata": {},
   "outputs": [],
   "source": [
    "import random\n",
    "\n",
    "def choose_first():\n",
    "    if random.randint(0, 1) == 0:\n",
    "        return 'Player 2'\n",
    "    else:\n",
    "        return 'Player 1'"
   ]
  },
  {
   "cell_type": "code",
   "execution_count": 12,
   "metadata": {},
   "outputs": [],
   "source": [
    "def space_check(board, position):\n",
    "    \n",
    "    if board[position] ==' ':\n",
    "        return True\n",
    "        \n",
    "    else:\n",
    "        print('The position is already taken, choose again')\n",
    "        return False\n"
   ]
  },
  {
   "cell_type": "code",
   "execution_count": 13,
   "metadata": {},
   "outputs": [
    {
     "name": "stdout",
     "output_type": "stream",
     "text": [
      "The position is already taken, choose again\n"
     ]
    },
    {
     "data": {
      "text/plain": [
       "False"
      ]
     },
     "execution_count": 13,
     "metadata": {},
     "output_type": "execute_result"
    }
   ],
   "source": [
    "test_board = ['#','X','O', 'X','O','X','O','X','O','X']\n",
    "space_check(test_board,1)"
   ]
  },
  {
   "cell_type": "code",
   "execution_count": 14,
   "metadata": {},
   "outputs": [],
   "source": [
    "def full_board_check(board):\n",
    "    for i in range(1,10):\n",
    "        if space_check(board, i):\n",
    "            return False\n",
    "    return True"
   ]
  },
  {
   "cell_type": "code",
   "execution_count": 15,
   "metadata": {},
   "outputs": [],
   "source": [
    "def player_choice():\n",
    "    #This function ask for the desired position of the player until \n",
    "    #the input is valid \n",
    "    \n",
    "    choices =[1,2,3,4,5,6,7,8,9]\n",
    "    choice = 0\n",
    "    \n",
    "    \n",
    "    while choice not in choices or not space_check(board, choice) :\n",
    "        \n",
    "        choice = int(input(\"Choose a position: \"))\n",
    "        \n",
    "        if choice not in choices:\n",
    "            clear_output()\n",
    "            print(\"Sorry, but you did not enter a valid position. Please try again.\")\n",
    "    return int(choice)\n",
    "#player_choice()n"
   ]
  },
  {
   "cell_type": "code",
   "execution_count": 16,
   "metadata": {},
   "outputs": [
    {
     "name": "stdout",
     "output_type": "stream",
     "text": [
      "Do you want to play again? Enter Yes or No: n\n"
     ]
    },
    {
     "data": {
      "text/plain": [
       "'n'"
      ]
     },
     "execution_count": 16,
     "metadata": {},
     "output_type": "execute_result"
    }
   ],
   "source": [
    "def replay():\n",
    "    \n",
    "    return input('Do you want to play again? Enter Yes or No: ')\n",
    "    \n",
    "replay()"
   ]
  },
  {
   "cell_type": "code",
   "execution_count": null,
   "metadata": {},
   "outputs": [
    {
     "name": "stdout",
     "output_type": "stream",
     "text": [
      "X|O|X\n",
      "------\n",
      "O|X|O\n",
      "------\n",
      "X|X|O\n",
      "Player 2 has won!\n"
     ]
    }
   ],
   "source": [
    "print('Welcome to Tic Tac Toe!')\n",
    "\n",
    "while True:\n",
    "    # Reset the board\n",
    "    board=[' ',' ',' ',' ',' ',' ',' ',' ',' ',' ',' ',]\n",
    "    player1_marker, player2_marker = player_symbol()\n",
    "    turn = choose_first()\n",
    "    print(turn + ' will go first.')\n",
    "    \n",
    "    play_game = input('Are you ready to play? Enter Yes or No.')\n",
    "    \n",
    "    if play_game == 'y':\n",
    "        game_on = True\n",
    "    else:\n",
    "        game_on = False\n",
    "\n",
    "    while game_on:\n",
    "        if turn == 'Player 1':\n",
    "            # Player1's turn.\n",
    "            \n",
    "            display_board(board)\n",
    "            position = player_choice()\n",
    "            if space_check(board,position):\n",
    "                place_symbol(board, player1_marker, position)\n",
    "        \n",
    "            if win_check(board, player1_marker):\n",
    "                display_board(board)\n",
    "                print('Congratulations! You have won the game!')\n",
    "                game_on = False\n",
    "            else:\n",
    "                if full_board_check(board):\n",
    "                    display_board(board)\n",
    "                    print('The game is a draw!')\n",
    "                    break\n",
    "                else:\n",
    "                    turn = 'Player 2'\n",
    "\n",
    "        else:\n",
    "            # Player2's turn.\n",
    "            \n",
    "            display_board(board)\n",
    "            position = player_choice()\n",
    "            if space_check(board,position):\n",
    "                place_symbol(board, player2_marker, position)\n",
    "\n",
    "\n",
    "            if win_check(board, player2_marker):\n",
    "                display_board(board)\n",
    "                print('Player 2 has won!')\n",
    "                game_on = False\n",
    "            else:\n",
    "                if full_board_check(board):\n",
    "                    display_board(board)\n",
    "                    print('The game is a draw!')\n",
    "                    break\n",
    "                else:\n",
    "                    turn = 'Player 1'\n",
    "\n",
    "    if not replay():\n",
    "        print ('Thanks for playing, Bye')\n",
    "        break"
   ]
  },
  {
   "cell_type": "markdown",
   "metadata": {},
   "source": []
  }
 ],
 "metadata": {
  "kernelspec": {
   "display_name": "Python 3",
   "language": "python",
   "name": "python3"
  },
  "language_info": {
   "codemirror_mode": {
    "name": "ipython",
    "version": 3
   },
   "file_extension": ".py",
   "mimetype": "text/x-python",
   "name": "python",
   "nbconvert_exporter": "python",
   "pygments_lexer": "ipython3",
   "version": "3.8.3"
  }
 },
 "nbformat": 4,
 "nbformat_minor": 4
}
